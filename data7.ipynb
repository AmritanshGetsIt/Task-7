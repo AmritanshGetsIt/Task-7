{
  "cells": [
    {
      "cell_type": "code",
      "execution_count": null,
      "id": "a8e3b68f-e94d-4f20-bf00-6a105f4d9de4",
      "metadata": {
        "trusted": true
      },
      "outputs": [],
      "source": [
        "import sqlite3\n",
        "import pandas as pd\n",
        "import matplotlib.pyplot as plt\n",
        "\n",
        "# Step 1: Connect to SQLite DB (creates a new one if it doesn't exist)\n",
        "conn = sqlite3.connect(\"sales_data.db\")\n",
        "cursor = conn.cursor()\n",
        "\n",
        "# Step 2: Create a simple sales table (skip this if already created)\n",
        "cursor.execute(\"\"\"\n",
        "CREATE TABLE IF NOT EXISTS sales (\n",
        "    id INTEGER PRIMARY KEY AUTOINCREMENT,\n",
        "    product TEXT NOT NULL,\n",
        "    quantity INTEGER NOT NULL,\n",
        "    price REAL NOT NULL\n",
        ");\n",
        "\"\"\")\n",
        "\n",
        "# Step 3: Insert some sample data (skip this if already populated)\n",
        "sample_data = [\n",
        "    ('Apple', 10, 0.5),\n",
        "    ('Banana', 20, 0.3),\n",
        "    ('Orange', 15, 0.6),\n",
        "    ('Apple', 5, 0.5),\n",
        "    ('Banana', 10, 0.3)\n",
        "]\n",
        "cursor.executemany(\"INSERT INTO sales (product, quantity, price) VALUES (?, ?, ?);\", sample_data)\n",
        "conn.commit()\n",
        "\n",
        "# Step 4: Run SQL query to get summary\n",
        "query = \"\"\"\n",
        "SELECT product, \n",
        "       SUM(quantity) AS total_qty, \n",
        "       SUM(quantity * price) AS revenue \n",
        "FROM sales \n",
        "GROUP BY product;\n",
        "\"\"\"\n",
        "df = pd.read_sql_query(query, conn)\n",
        "\n",
        "# Step 5: Display results using print\n",
        "print(\"Basic Sales Summary:\")\n",
        "print(df)\n",
        "\n",
        "# Step 6: Plot bar chart (revenue by product)\n",
        "df.plot(kind='bar', x='product', y='revenue', legend=False, color='skyblue')\n",
        "plt.title(\"Revenue by Product\")\n",
        "plt.ylabel(\"Revenue ($)\")\n",
        "plt.tight_layout()\n",
        "plt.savefig(\"sales_chart.png\")  # Optional: saves the chart\n",
        "plt.show()\n",
        "\n",
        "# Close connection\n",
        "conn.close()\n"
      ]
    }
  ],
  "metadata": {
    "kernelspec": {
      "display_name": "Python (Pyodide)",
      "language": "python",
      "name": "python"
    },
    "language_info": {
      "codemirror_mode": {
        "name": "python",
        "version": 3
      },
      "file_extension": ".py",
      "mimetype": "text/x-python",
      "name": "python",
      "nbconvert_exporter": "python",
      "pygments_lexer": "ipython3",
      "version": "3.8"
    }
  },
  "nbformat": 4,
  "nbformat_minor": 5
}
